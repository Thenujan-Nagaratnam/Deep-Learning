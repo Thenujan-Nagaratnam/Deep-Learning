{
  "nbformat": 4,
  "nbformat_minor": 0,
  "metadata": {
    "colab": {
      "name": "Obstacle Prediction Using NN",
      "provenance": [],
      "include_colab_link": true
    },
    "kernelspec": {
      "name": "python3",
      "display_name": "Python 3"
    },
    "language_info": {
      "name": "python"
    },
    "widgets": {
      "application/vnd.jupyter.widget-state+json": {
        "6b24ffcdbca544aabdc5f899a7e74985": {
          "model_module": "@jupyter-widgets/controls",
          "model_name": "HBoxModel",
          "model_module_version": "1.5.0",
          "state": {
            "_dom_classes": [],
            "_model_module": "@jupyter-widgets/controls",
            "_model_module_version": "1.5.0",
            "_model_name": "HBoxModel",
            "_view_count": null,
            "_view_module": "@jupyter-widgets/controls",
            "_view_module_version": "1.5.0",
            "_view_name": "HBoxView",
            "box_style": "",
            "children": [
              "IPY_MODEL_04efaeb6771d4cd8aee2a128cdaf1da0",
              "IPY_MODEL_38cdb7cd7f63441494abec021ac38a84",
              "IPY_MODEL_20af1d59fbf9488a9def308ba722d8c3"
            ],
            "layout": "IPY_MODEL_f9232f03f83e476eb0bea96c2a27eefa"
          }
        },
        "04efaeb6771d4cd8aee2a128cdaf1da0": {
          "model_module": "@jupyter-widgets/controls",
          "model_name": "HTMLModel",
          "model_module_version": "1.5.0",
          "state": {
            "_dom_classes": [],
            "_model_module": "@jupyter-widgets/controls",
            "_model_module_version": "1.5.0",
            "_model_name": "HTMLModel",
            "_view_count": null,
            "_view_module": "@jupyter-widgets/controls",
            "_view_module_version": "1.5.0",
            "_view_name": "HTMLView",
            "description": "",
            "description_tooltip": null,
            "layout": "IPY_MODEL_b482a490c6d34b8e973747c3d3e56547",
            "placeholder": "​",
            "style": "IPY_MODEL_35b54010686d40af954d477a27d60f8f",
            "value": "data.npz: 100%"
          }
        },
        "38cdb7cd7f63441494abec021ac38a84": {
          "model_module": "@jupyter-widgets/controls",
          "model_name": "FloatProgressModel",
          "model_module_version": "1.5.0",
          "state": {
            "_dom_classes": [],
            "_model_module": "@jupyter-widgets/controls",
            "_model_module_version": "1.5.0",
            "_model_name": "FloatProgressModel",
            "_view_count": null,
            "_view_module": "@jupyter-widgets/controls",
            "_view_module_version": "1.5.0",
            "_view_name": "ProgressView",
            "bar_style": "success",
            "description": "",
            "description_tooltip": null,
            "layout": "IPY_MODEL_e3b2dbf777ef480798157dac42f98e67",
            "max": 6521707,
            "min": 0,
            "orientation": "horizontal",
            "style": "IPY_MODEL_97c839d5b516427ea8b2b43fa5a094e3",
            "value": 6521707
          }
        },
        "20af1d59fbf9488a9def308ba722d8c3": {
          "model_module": "@jupyter-widgets/controls",
          "model_name": "HTMLModel",
          "model_module_version": "1.5.0",
          "state": {
            "_dom_classes": [],
            "_model_module": "@jupyter-widgets/controls",
            "_model_module_version": "1.5.0",
            "_model_name": "HTMLModel",
            "_view_count": null,
            "_view_module": "@jupyter-widgets/controls",
            "_view_module_version": "1.5.0",
            "_view_name": "HTMLView",
            "description": "",
            "description_tooltip": null,
            "layout": "IPY_MODEL_41dc990388f4491ea0c8bf2abce8368f",
            "placeholder": "​",
            "style": "IPY_MODEL_038e41c5a47c4c3796ae6b818747e64b",
            "value": " 6.52M/6.52M [00:00&lt;00:00, 9.95MB/s]"
          }
        },
        "f9232f03f83e476eb0bea96c2a27eefa": {
          "model_module": "@jupyter-widgets/base",
          "model_name": "LayoutModel",
          "model_module_version": "1.2.0",
          "state": {
            "_model_module": "@jupyter-widgets/base",
            "_model_module_version": "1.2.0",
            "_model_name": "LayoutModel",
            "_view_count": null,
            "_view_module": "@jupyter-widgets/base",
            "_view_module_version": "1.2.0",
            "_view_name": "LayoutView",
            "align_content": null,
            "align_items": null,
            "align_self": null,
            "border": null,
            "bottom": null,
            "display": null,
            "flex": null,
            "flex_flow": null,
            "grid_area": null,
            "grid_auto_columns": null,
            "grid_auto_flow": null,
            "grid_auto_rows": null,
            "grid_column": null,
            "grid_gap": null,
            "grid_row": null,
            "grid_template_areas": null,
            "grid_template_columns": null,
            "grid_template_rows": null,
            "height": null,
            "justify_content": null,
            "justify_items": null,
            "left": null,
            "margin": null,
            "max_height": null,
            "max_width": null,
            "min_height": null,
            "min_width": null,
            "object_fit": null,
            "object_position": null,
            "order": null,
            "overflow": null,
            "overflow_x": null,
            "overflow_y": null,
            "padding": null,
            "right": null,
            "top": null,
            "visibility": null,
            "width": null
          }
        },
        "b482a490c6d34b8e973747c3d3e56547": {
          "model_module": "@jupyter-widgets/base",
          "model_name": "LayoutModel",
          "model_module_version": "1.2.0",
          "state": {
            "_model_module": "@jupyter-widgets/base",
            "_model_module_version": "1.2.0",
            "_model_name": "LayoutModel",
            "_view_count": null,
            "_view_module": "@jupyter-widgets/base",
            "_view_module_version": "1.2.0",
            "_view_name": "LayoutView",
            "align_content": null,
            "align_items": null,
            "align_self": null,
            "border": null,
            "bottom": null,
            "display": null,
            "flex": null,
            "flex_flow": null,
            "grid_area": null,
            "grid_auto_columns": null,
            "grid_auto_flow": null,
            "grid_auto_rows": null,
            "grid_column": null,
            "grid_gap": null,
            "grid_row": null,
            "grid_template_areas": null,
            "grid_template_columns": null,
            "grid_template_rows": null,
            "height": null,
            "justify_content": null,
            "justify_items": null,
            "left": null,
            "margin": null,
            "max_height": null,
            "max_width": null,
            "min_height": null,
            "min_width": null,
            "object_fit": null,
            "object_position": null,
            "order": null,
            "overflow": null,
            "overflow_x": null,
            "overflow_y": null,
            "padding": null,
            "right": null,
            "top": null,
            "visibility": null,
            "width": null
          }
        },
        "35b54010686d40af954d477a27d60f8f": {
          "model_module": "@jupyter-widgets/controls",
          "model_name": "DescriptionStyleModel",
          "model_module_version": "1.5.0",
          "state": {
            "_model_module": "@jupyter-widgets/controls",
            "_model_module_version": "1.5.0",
            "_model_name": "DescriptionStyleModel",
            "_view_count": null,
            "_view_module": "@jupyter-widgets/base",
            "_view_module_version": "1.2.0",
            "_view_name": "StyleView",
            "description_width": ""
          }
        },
        "e3b2dbf777ef480798157dac42f98e67": {
          "model_module": "@jupyter-widgets/base",
          "model_name": "LayoutModel",
          "model_module_version": "1.2.0",
          "state": {
            "_model_module": "@jupyter-widgets/base",
            "_model_module_version": "1.2.0",
            "_model_name": "LayoutModel",
            "_view_count": null,
            "_view_module": "@jupyter-widgets/base",
            "_view_module_version": "1.2.0",
            "_view_name": "LayoutView",
            "align_content": null,
            "align_items": null,
            "align_self": null,
            "border": null,
            "bottom": null,
            "display": null,
            "flex": null,
            "flex_flow": null,
            "grid_area": null,
            "grid_auto_columns": null,
            "grid_auto_flow": null,
            "grid_auto_rows": null,
            "grid_column": null,
            "grid_gap": null,
            "grid_row": null,
            "grid_template_areas": null,
            "grid_template_columns": null,
            "grid_template_rows": null,
            "height": null,
            "justify_content": null,
            "justify_items": null,
            "left": null,
            "margin": null,
            "max_height": null,
            "max_width": null,
            "min_height": null,
            "min_width": null,
            "object_fit": null,
            "object_position": null,
            "order": null,
            "overflow": null,
            "overflow_x": null,
            "overflow_y": null,
            "padding": null,
            "right": null,
            "top": null,
            "visibility": null,
            "width": null
          }
        },
        "97c839d5b516427ea8b2b43fa5a094e3": {
          "model_module": "@jupyter-widgets/controls",
          "model_name": "ProgressStyleModel",
          "model_module_version": "1.5.0",
          "state": {
            "_model_module": "@jupyter-widgets/controls",
            "_model_module_version": "1.5.0",
            "_model_name": "ProgressStyleModel",
            "_view_count": null,
            "_view_module": "@jupyter-widgets/base",
            "_view_module_version": "1.2.0",
            "_view_name": "StyleView",
            "bar_color": null,
            "description_width": ""
          }
        },
        "41dc990388f4491ea0c8bf2abce8368f": {
          "model_module": "@jupyter-widgets/base",
          "model_name": "LayoutModel",
          "model_module_version": "1.2.0",
          "state": {
            "_model_module": "@jupyter-widgets/base",
            "_model_module_version": "1.2.0",
            "_model_name": "LayoutModel",
            "_view_count": null,
            "_view_module": "@jupyter-widgets/base",
            "_view_module_version": "1.2.0",
            "_view_name": "LayoutView",
            "align_content": null,
            "align_items": null,
            "align_self": null,
            "border": null,
            "bottom": null,
            "display": null,
            "flex": null,
            "flex_flow": null,
            "grid_area": null,
            "grid_auto_columns": null,
            "grid_auto_flow": null,
            "grid_auto_rows": null,
            "grid_column": null,
            "grid_gap": null,
            "grid_row": null,
            "grid_template_areas": null,
            "grid_template_columns": null,
            "grid_template_rows": null,
            "height": null,
            "justify_content": null,
            "justify_items": null,
            "left": null,
            "margin": null,
            "max_height": null,
            "max_width": null,
            "min_height": null,
            "min_width": null,
            "object_fit": null,
            "object_position": null,
            "order": null,
            "overflow": null,
            "overflow_x": null,
            "overflow_y": null,
            "padding": null,
            "right": null,
            "top": null,
            "visibility": null,
            "width": null
          }
        },
        "038e41c5a47c4c3796ae6b818747e64b": {
          "model_module": "@jupyter-widgets/controls",
          "model_name": "DescriptionStyleModel",
          "model_module_version": "1.5.0",
          "state": {
            "_model_module": "@jupyter-widgets/controls",
            "_model_module_version": "1.5.0",
            "_model_name": "DescriptionStyleModel",
            "_view_count": null,
            "_view_module": "@jupyter-widgets/base",
            "_view_module_version": "1.2.0",
            "_view_name": "StyleView",
            "description_width": ""
          }
        },
        "5bb1c37b63e64bf59aab8c57b2638831": {
          "model_module": "@jupyter-widgets/controls",
          "model_name": "HBoxModel",
          "model_module_version": "1.5.0",
          "state": {
            "_dom_classes": [],
            "_model_module": "@jupyter-widgets/controls",
            "_model_module_version": "1.5.0",
            "_model_name": "HBoxModel",
            "_view_count": null,
            "_view_module": "@jupyter-widgets/controls",
            "_view_module_version": "1.5.0",
            "_view_name": "HBoxView",
            "box_style": "",
            "children": [
              "IPY_MODEL_2c49deea84d24a438b707d314bf4569b",
              "IPY_MODEL_27f1a04d7bac49a2b4653ab037f35a5b",
              "IPY_MODEL_4748f48008e44fd4aa54603e99010b46"
            ],
            "layout": "IPY_MODEL_bfa5091fdda3421aaa36273cf7b91275"
          }
        },
        "2c49deea84d24a438b707d314bf4569b": {
          "model_module": "@jupyter-widgets/controls",
          "model_name": "HTMLModel",
          "model_module_version": "1.5.0",
          "state": {
            "_dom_classes": [],
            "_model_module": "@jupyter-widgets/controls",
            "_model_module_version": "1.5.0",
            "_model_name": "HTMLModel",
            "_view_count": null,
            "_view_module": "@jupyter-widgets/controls",
            "_view_module_version": "1.5.0",
            "_view_name": "HTMLView",
            "description": "",
            "description_tooltip": null,
            "layout": "IPY_MODEL_f9fd749b5d61445dac015c4322d36097",
            "placeholder": "​",
            "style": "IPY_MODEL_48d36d75d30443709a24525db749a3ed",
            "value": "sample_submission.csv: 100%"
          }
        },
        "27f1a04d7bac49a2b4653ab037f35a5b": {
          "model_module": "@jupyter-widgets/controls",
          "model_name": "FloatProgressModel",
          "model_module_version": "1.5.0",
          "state": {
            "_dom_classes": [],
            "_model_module": "@jupyter-widgets/controls",
            "_model_module_version": "1.5.0",
            "_model_name": "FloatProgressModel",
            "_view_count": null,
            "_view_module": "@jupyter-widgets/controls",
            "_view_module_version": "1.5.0",
            "_view_name": "ProgressView",
            "bar_style": "success",
            "description": "",
            "description_tooltip": null,
            "layout": "IPY_MODEL_64e4e5326cac497d8ab82948ecfcf5be",
            "max": 9007,
            "min": 0,
            "orientation": "horizontal",
            "style": "IPY_MODEL_53a016b6a79e4499a77e99f2943a25ee",
            "value": 9007
          }
        },
        "4748f48008e44fd4aa54603e99010b46": {
          "model_module": "@jupyter-widgets/controls",
          "model_name": "HTMLModel",
          "model_module_version": "1.5.0",
          "state": {
            "_dom_classes": [],
            "_model_module": "@jupyter-widgets/controls",
            "_model_module_version": "1.5.0",
            "_model_name": "HTMLModel",
            "_view_count": null,
            "_view_module": "@jupyter-widgets/controls",
            "_view_module_version": "1.5.0",
            "_view_name": "HTMLView",
            "description": "",
            "description_tooltip": null,
            "layout": "IPY_MODEL_01605965dc984f2fb9a14bd5de939255",
            "placeholder": "​",
            "style": "IPY_MODEL_18a0c9043f644df589f6b23e12760a3e",
            "value": " 9.01k/9.01k [00:00&lt;00:00, 136kB/s]"
          }
        },
        "bfa5091fdda3421aaa36273cf7b91275": {
          "model_module": "@jupyter-widgets/base",
          "model_name": "LayoutModel",
          "model_module_version": "1.2.0",
          "state": {
            "_model_module": "@jupyter-widgets/base",
            "_model_module_version": "1.2.0",
            "_model_name": "LayoutModel",
            "_view_count": null,
            "_view_module": "@jupyter-widgets/base",
            "_view_module_version": "1.2.0",
            "_view_name": "LayoutView",
            "align_content": null,
            "align_items": null,
            "align_self": null,
            "border": null,
            "bottom": null,
            "display": null,
            "flex": null,
            "flex_flow": null,
            "grid_area": null,
            "grid_auto_columns": null,
            "grid_auto_flow": null,
            "grid_auto_rows": null,
            "grid_column": null,
            "grid_gap": null,
            "grid_row": null,
            "grid_template_areas": null,
            "grid_template_columns": null,
            "grid_template_rows": null,
            "height": null,
            "justify_content": null,
            "justify_items": null,
            "left": null,
            "margin": null,
            "max_height": null,
            "max_width": null,
            "min_height": null,
            "min_width": null,
            "object_fit": null,
            "object_position": null,
            "order": null,
            "overflow": null,
            "overflow_x": null,
            "overflow_y": null,
            "padding": null,
            "right": null,
            "top": null,
            "visibility": null,
            "width": null
          }
        },
        "f9fd749b5d61445dac015c4322d36097": {
          "model_module": "@jupyter-widgets/base",
          "model_name": "LayoutModel",
          "model_module_version": "1.2.0",
          "state": {
            "_model_module": "@jupyter-widgets/base",
            "_model_module_version": "1.2.0",
            "_model_name": "LayoutModel",
            "_view_count": null,
            "_view_module": "@jupyter-widgets/base",
            "_view_module_version": "1.2.0",
            "_view_name": "LayoutView",
            "align_content": null,
            "align_items": null,
            "align_self": null,
            "border": null,
            "bottom": null,
            "display": null,
            "flex": null,
            "flex_flow": null,
            "grid_area": null,
            "grid_auto_columns": null,
            "grid_auto_flow": null,
            "grid_auto_rows": null,
            "grid_column": null,
            "grid_gap": null,
            "grid_row": null,
            "grid_template_areas": null,
            "grid_template_columns": null,
            "grid_template_rows": null,
            "height": null,
            "justify_content": null,
            "justify_items": null,
            "left": null,
            "margin": null,
            "max_height": null,
            "max_width": null,
            "min_height": null,
            "min_width": null,
            "object_fit": null,
            "object_position": null,
            "order": null,
            "overflow": null,
            "overflow_x": null,
            "overflow_y": null,
            "padding": null,
            "right": null,
            "top": null,
            "visibility": null,
            "width": null
          }
        },
        "48d36d75d30443709a24525db749a3ed": {
          "model_module": "@jupyter-widgets/controls",
          "model_name": "DescriptionStyleModel",
          "model_module_version": "1.5.0",
          "state": {
            "_model_module": "@jupyter-widgets/controls",
            "_model_module_version": "1.5.0",
            "_model_name": "DescriptionStyleModel",
            "_view_count": null,
            "_view_module": "@jupyter-widgets/base",
            "_view_module_version": "1.2.0",
            "_view_name": "StyleView",
            "description_width": ""
          }
        },
        "64e4e5326cac497d8ab82948ecfcf5be": {
          "model_module": "@jupyter-widgets/base",
          "model_name": "LayoutModel",
          "model_module_version": "1.2.0",
          "state": {
            "_model_module": "@jupyter-widgets/base",
            "_model_module_version": "1.2.0",
            "_model_name": "LayoutModel",
            "_view_count": null,
            "_view_module": "@jupyter-widgets/base",
            "_view_module_version": "1.2.0",
            "_view_name": "LayoutView",
            "align_content": null,
            "align_items": null,
            "align_self": null,
            "border": null,
            "bottom": null,
            "display": null,
            "flex": null,
            "flex_flow": null,
            "grid_area": null,
            "grid_auto_columns": null,
            "grid_auto_flow": null,
            "grid_auto_rows": null,
            "grid_column": null,
            "grid_gap": null,
            "grid_row": null,
            "grid_template_areas": null,
            "grid_template_columns": null,
            "grid_template_rows": null,
            "height": null,
            "justify_content": null,
            "justify_items": null,
            "left": null,
            "margin": null,
            "max_height": null,
            "max_width": null,
            "min_height": null,
            "min_width": null,
            "object_fit": null,
            "object_position": null,
            "order": null,
            "overflow": null,
            "overflow_x": null,
            "overflow_y": null,
            "padding": null,
            "right": null,
            "top": null,
            "visibility": null,
            "width": null
          }
        },
        "53a016b6a79e4499a77e99f2943a25ee": {
          "model_module": "@jupyter-widgets/controls",
          "model_name": "ProgressStyleModel",
          "model_module_version": "1.5.0",
          "state": {
            "_model_module": "@jupyter-widgets/controls",
            "_model_module_version": "1.5.0",
            "_model_name": "ProgressStyleModel",
            "_view_count": null,
            "_view_module": "@jupyter-widgets/base",
            "_view_module_version": "1.2.0",
            "_view_name": "StyleView",
            "bar_color": null,
            "description_width": ""
          }
        },
        "01605965dc984f2fb9a14bd5de939255": {
          "model_module": "@jupyter-widgets/base",
          "model_name": "LayoutModel",
          "model_module_version": "1.2.0",
          "state": {
            "_model_module": "@jupyter-widgets/base",
            "_model_module_version": "1.2.0",
            "_model_name": "LayoutModel",
            "_view_count": null,
            "_view_module": "@jupyter-widgets/base",
            "_view_module_version": "1.2.0",
            "_view_name": "LayoutView",
            "align_content": null,
            "align_items": null,
            "align_self": null,
            "border": null,
            "bottom": null,
            "display": null,
            "flex": null,
            "flex_flow": null,
            "grid_area": null,
            "grid_auto_columns": null,
            "grid_auto_flow": null,
            "grid_auto_rows": null,
            "grid_column": null,
            "grid_gap": null,
            "grid_row": null,
            "grid_template_areas": null,
            "grid_template_columns": null,
            "grid_template_rows": null,
            "height": null,
            "justify_content": null,
            "justify_items": null,
            "left": null,
            "margin": null,
            "max_height": null,
            "max_width": null,
            "min_height": null,
            "min_width": null,
            "object_fit": null,
            "object_position": null,
            "order": null,
            "overflow": null,
            "overflow_x": null,
            "overflow_y": null,
            "padding": null,
            "right": null,
            "top": null,
            "visibility": null,
            "width": null
          }
        },
        "18a0c9043f644df589f6b23e12760a3e": {
          "model_module": "@jupyter-widgets/controls",
          "model_name": "DescriptionStyleModel",
          "model_module_version": "1.5.0",
          "state": {
            "_model_module": "@jupyter-widgets/controls",
            "_model_module_version": "1.5.0",
            "_model_name": "DescriptionStyleModel",
            "_view_count": null,
            "_view_module": "@jupyter-widgets/base",
            "_view_module_version": "1.2.0",
            "_view_name": "StyleView",
            "description_width": ""
          }
        }
      }
    }
  },
  "cells": [
    {
      "cell_type": "markdown",
      "metadata": {
        "id": "view-in-github",
        "colab_type": "text"
      },
      "source": [
        "<a href=\"https://colab.research.google.com/github/Thenujan-Nagaratnam/Deep-Learning/blob/main/Obstacle_Prediction_Using_NN.ipynb\" target=\"_parent\"><img src=\"https://colab.research.google.com/assets/colab-badge.svg\" alt=\"Open In Colab\"/></a>"
      ]
    },
    {
      "cell_type": "markdown",
      "metadata": {
        "id": "n7MqnoIPgF9X"
      },
      "source": [
        "<h2><center>Starter Code for Obstacle Prediction</center></h2>\n",
        "\n",
        "![](https://images.aicrowd.com/raw_images/challenges/banner_file/901/d5b56de544c949cb8bf7.jpg)\n",
        "\n",
        "### What are we going to learn?\n",
        "\n",
        "  - Using [scikit-learn](https://scikit-learn.org/stable/) [Random Forest Classifier](https://scikit-learn.org/stable/modules/generated/sklearn.ensemble.RandomForestClassifier.html)  for binary classification."
      ]
    },
    {
      "cell_type": "markdown",
      "metadata": {
        "id": "6CRIDoD1gl19"
      },
      "source": [
        "Note: Create a copy of the notebook and use the copy for submission. Go to File > Save a Copy in Drive to create a new copy\n",
        "\n"
      ]
    },
    {
      "cell_type": "markdown",
      "metadata": {
        "id": "fNpguGDegasj"
      },
      "source": [
        "# Downloading Dataset\n"
      ]
    },
    {
      "cell_type": "markdown",
      "metadata": {
        "id": "uTbLB2Vkgxt5"
      },
      "source": [
        "Installing `aicrowd-cli`"
      ]
    },
    {
      "cell_type": "code",
      "metadata": {
        "colab": {
          "base_uri": "https://localhost:8080/"
        },
        "id": "SVikU6wwfp1g",
        "outputId": "1eeffc76-81ce-47e9-9a8e-48395a0064df"
      },
      "source": [
        "!pip install aicrowd-cli\n",
        "%load_ext aicrowd.magic"
      ],
      "execution_count": 1,
      "outputs": [
        {
          "output_type": "stream",
          "name": "stdout",
          "text": [
            "Requirement already satisfied: aicrowd-cli in /usr/local/lib/python3.10/dist-packages (0.1.15)\n",
            "Requirement already satisfied: click<8,>=7.1.2 in /usr/local/lib/python3.10/dist-packages (from aicrowd-cli) (7.1.2)\n",
            "Requirement already satisfied: GitPython==3.1.18 in /usr/local/lib/python3.10/dist-packages (from aicrowd-cli) (3.1.18)\n",
            "Requirement already satisfied: requests<3,>=2.25.1 in /usr/local/lib/python3.10/dist-packages (from aicrowd-cli) (2.31.0)\n",
            "Requirement already satisfied: requests-toolbelt<1,>=0.9.1 in /usr/local/lib/python3.10/dist-packages (from aicrowd-cli) (0.10.1)\n",
            "Requirement already satisfied: rich<11,>=10.0.0 in /usr/local/lib/python3.10/dist-packages (from aicrowd-cli) (10.16.2)\n",
            "Requirement already satisfied: toml<1,>=0.10.2 in /usr/local/lib/python3.10/dist-packages (from aicrowd-cli) (0.10.2)\n",
            "Requirement already satisfied: tqdm<5,>=4.56.0 in /usr/local/lib/python3.10/dist-packages (from aicrowd-cli) (4.66.1)\n",
            "Requirement already satisfied: pyzmq==22.1.0 in /usr/local/lib/python3.10/dist-packages (from aicrowd-cli) (22.1.0)\n",
            "Requirement already satisfied: python-slugify<6,>=5.0.0 in /usr/local/lib/python3.10/dist-packages (from aicrowd-cli) (5.0.2)\n",
            "Requirement already satisfied: semver<3,>=2.13.0 in /usr/local/lib/python3.10/dist-packages (from aicrowd-cli) (2.13.0)\n",
            "Requirement already satisfied: gitdb<5,>=4.0.1 in /usr/local/lib/python3.10/dist-packages (from GitPython==3.1.18->aicrowd-cli) (4.0.10)\n",
            "Requirement already satisfied: text-unidecode>=1.3 in /usr/local/lib/python3.10/dist-packages (from python-slugify<6,>=5.0.0->aicrowd-cli) (1.3)\n",
            "Requirement already satisfied: charset-normalizer<4,>=2 in /usr/local/lib/python3.10/dist-packages (from requests<3,>=2.25.1->aicrowd-cli) (3.2.0)\n",
            "Requirement already satisfied: idna<4,>=2.5 in /usr/local/lib/python3.10/dist-packages (from requests<3,>=2.25.1->aicrowd-cli) (3.4)\n",
            "Requirement already satisfied: urllib3<3,>=1.21.1 in /usr/local/lib/python3.10/dist-packages (from requests<3,>=2.25.1->aicrowd-cli) (2.0.4)\n",
            "Requirement already satisfied: certifi>=2017.4.17 in /usr/local/lib/python3.10/dist-packages (from requests<3,>=2.25.1->aicrowd-cli) (2023.7.22)\n",
            "Requirement already satisfied: colorama<0.5.0,>=0.4.0 in /usr/local/lib/python3.10/dist-packages (from rich<11,>=10.0.0->aicrowd-cli) (0.4.6)\n",
            "Requirement already satisfied: commonmark<0.10.0,>=0.9.0 in /usr/local/lib/python3.10/dist-packages (from rich<11,>=10.0.0->aicrowd-cli) (0.9.1)\n",
            "Requirement already satisfied: pygments<3.0.0,>=2.6.0 in /usr/local/lib/python3.10/dist-packages (from rich<11,>=10.0.0->aicrowd-cli) (2.16.1)\n",
            "Requirement already satisfied: smmap<6,>=3.0.1 in /usr/local/lib/python3.10/dist-packages (from gitdb<5,>=4.0.1->GitPython==3.1.18->aicrowd-cli) (5.0.0)\n"
          ]
        }
      ]
    },
    {
      "cell_type": "code",
      "metadata": {
        "colab": {
          "base_uri": "https://localhost:8080/"
        },
        "id": "T7qKR3Qtgp0B",
        "outputId": "714c7ccb-dbb9-48cd-ffdf-f9eee44397f0"
      },
      "source": [
        "%aicrowd login"
      ],
      "execution_count": 2,
      "outputs": [
        {
          "output_type": "stream",
          "name": "stdout",
          "text": [
            "Please login here: \u001b[34m\u001b[1m\u001b[4mhttps://api.aicrowd.com/auth/gxDJmAFd4C6Yb8rthNSLhtcLv-C_qYTvkQ-aDGIAxDs\u001b[0m\n",
            "\u001b[32mAPI Key valid\u001b[0m\n",
            "\u001b[32mGitlab access token valid\u001b[0m\n",
            "\u001b[32mSaved details successfully!\u001b[0m\n"
          ]
        }
      ]
    },
    {
      "cell_type": "code",
      "metadata": {
        "colab": {
          "base_uri": "https://localhost:8080/",
          "height": 98,
          "referenced_widgets": [
            "6b24ffcdbca544aabdc5f899a7e74985",
            "04efaeb6771d4cd8aee2a128cdaf1da0",
            "38cdb7cd7f63441494abec021ac38a84",
            "20af1d59fbf9488a9def308ba722d8c3",
            "f9232f03f83e476eb0bea96c2a27eefa",
            "b482a490c6d34b8e973747c3d3e56547",
            "35b54010686d40af954d477a27d60f8f",
            "e3b2dbf777ef480798157dac42f98e67",
            "97c839d5b516427ea8b2b43fa5a094e3",
            "41dc990388f4491ea0c8bf2abce8368f",
            "038e41c5a47c4c3796ae6b818747e64b",
            "5bb1c37b63e64bf59aab8c57b2638831",
            "2c49deea84d24a438b707d314bf4569b",
            "27f1a04d7bac49a2b4653ab037f35a5b",
            "4748f48008e44fd4aa54603e99010b46",
            "bfa5091fdda3421aaa36273cf7b91275",
            "f9fd749b5d61445dac015c4322d36097",
            "48d36d75d30443709a24525db749a3ed",
            "64e4e5326cac497d8ab82948ecfcf5be",
            "53a016b6a79e4499a77e99f2943a25ee",
            "01605965dc984f2fb9a14bd5de939255",
            "18a0c9043f644df589f6b23e12760a3e"
          ]
        },
        "id": "lMrqscpbg2eq",
        "outputId": "d5e89f96-40c8-436e-d4db-c8f9f5223e24"
      },
      "source": [
        "!rm -rf data\n",
        "!mkdir data\n",
        "%aicrowd ds dl -c obstacle-prediction -o data"
      ],
      "execution_count": 3,
      "outputs": [
        {
          "output_type": "stream",
          "name": "stderr",
          "text": [
            "ERROR:root:Error while reading the git config, 'NoneType' object has no attribute 'config_reader'\n"
          ]
        },
        {
          "output_type": "display_data",
          "data": {
            "text/plain": [
              "data.npz:   0%|          | 0.00/6.52M [00:00<?, ?B/s]"
            ],
            "application/vnd.jupyter.widget-view+json": {
              "version_major": 2,
              "version_minor": 0,
              "model_id": "6b24ffcdbca544aabdc5f899a7e74985"
            }
          },
          "metadata": {}
        },
        {
          "output_type": "display_data",
          "data": {
            "text/plain": [
              "sample_submission.csv:   0%|          | 0.00/9.01k [00:00<?, ?B/s]"
            ],
            "application/vnd.jupyter.widget-view+json": {
              "version_major": 2,
              "version_minor": 0,
              "model_id": "5bb1c37b63e64bf59aab8c57b2638831"
            }
          },
          "metadata": {}
        }
      ]
    },
    {
      "cell_type": "markdown",
      "metadata": {
        "id": "pxNxaGwEhAHR"
      },
      "source": [
        "# Importing Libraries\n",
        "\n",
        "In this baseline, we will be using the sklearn library to train the model and generate predictions."
      ]
    },
    {
      "cell_type": "code",
      "metadata": {
        "id": "6d3LRAAphA5_"
      },
      "source": [
        "import pandas as pd\n",
        "import numpy as np\n",
        "from sklearn.model_selection import train_test_split\n",
        "from sklearn.ensemble import RandomForestClassifier\n",
        "import os\n",
        "import matplotlib.pyplot as plt\n",
        "import seaborn as sns"
      ],
      "execution_count": 86,
      "outputs": []
    },
    {
      "cell_type": "markdown",
      "metadata": {
        "id": "CKQaYNdDhJAz"
      },
      "source": [
        "# Reading the dataset\n",
        "\n",
        "Here, we will read the `data.npz` which contains both training samples & labels, and testing samples."
      ]
    },
    {
      "cell_type": "code",
      "metadata": {
        "colab": {
          "base_uri": "https://localhost:8080/"
        },
        "id": "kxJiegWbhKIf",
        "outputId": "1a5b3378-7956-406f-d8c5-0d12978750b4"
      },
      "source": [
        "data = np.load(\"/content/data/data.npz\", allow_pickle=True)\n",
        "\n",
        "train_data = data[\"train\"]\n",
        "test_data = data['test']\n",
        "\n",
        "train_data.shape, test_data.shape"
      ],
      "execution_count": 87,
      "outputs": [
        {
          "output_type": "execute_result",
          "data": {
            "text/plain": [
              "((5000, 2), (3000,))"
            ]
          },
          "metadata": {},
          "execution_count": 87
        }
      ]
    },
    {
      "cell_type": "code",
      "source": [
        "train_data"
      ],
      "metadata": {
        "colab": {
          "base_uri": "https://localhost:8080/"
        },
        "id": "ZJEBWxFYosK8",
        "outputId": "1e397745-de47-4400-fb17-7f525769a0c9"
      },
      "execution_count": 88,
      "outputs": [
        {
          "output_type": "execute_result",
          "data": {
            "text/plain": [
              "array([[array([[ 8.59265938e-08,  9.43149701e-02,  9.26128626e-02,\n",
              "                 2.21422219e+00],\n",
              "               [ 4.98870598e-08,  4.09966931e-02,  1.85818858e-02,\n",
              "                 2.08142352e+00],\n",
              "               [ 3.34119576e-08,  1.65841877e-01, -1.29256640e-02,\n",
              "                 2.04282093e+00],\n",
              "               ...,\n",
              "               [-1.00000000e+00, -1.00000000e+00, -1.00000000e+00,\n",
              "                -1.00000000e+00],\n",
              "               [-1.00000000e+00, -1.00000000e+00, -1.00000000e+00,\n",
              "                -1.00000000e+00],\n",
              "               [-1.00000000e+00, -1.00000000e+00, -1.00000000e+00,\n",
              "                -1.00000000e+00]])                                , 1],\n",
              "       [array([[-2.45858431,  0.15992118, -0.1475938 , 17.53632736],\n",
              "               [-2.48255897, -0.03659383, -0.1692394 , 13.12974834],\n",
              "               [-2.48762727, -0.03044151, -0.14287235, 19.3575058 ],\n",
              "               ...,\n",
              "               [-1.        , -1.        , -1.        , -1.        ],\n",
              "               [-1.        , -1.        , -1.        , -1.        ],\n",
              "               [-1.        , -1.        , -1.        , -1.        ]]), 0],\n",
              "       [array([[ 2.35824633,  0.0696648 , -0.00616779,  3.63613963],\n",
              "               [ 2.36037993, -0.01899938,  0.01448353,  3.95696378],\n",
              "               [ 2.33924866, -0.15209267, -0.09597623,  2.79403281],\n",
              "               ...,\n",
              "               [-1.        , -1.        , -1.        , -1.        ],\n",
              "               [-1.        , -1.        , -1.        , -1.        ],\n",
              "               [-1.        , -1.        , -1.        , -1.        ]]), 1],\n",
              "       ...,\n",
              "       [array([[-2.47580051,  0.10949943, -0.14595294, 17.83010864],\n",
              "               [-2.48767257, -0.03561463, -0.15339305, 15.98949814],\n",
              "               [-2.47908115, -0.08617752, -0.15914007, 14.68615913],\n",
              "               ...,\n",
              "               [-1.        , -1.        , -1.        , -1.        ],\n",
              "               [-1.        , -1.        , -1.        , -1.        ],\n",
              "               [-1.        , -1.        , -1.        , -1.        ]]), 0],\n",
              "       [array([[ 1.18108439,  0.0568982 , -0.08526246,  3.9934485 ],\n",
              "               [ 1.16855395,  0.14499807, -0.14216663,  4.03481197],\n",
              "               [ 1.18219948, -0.03850545, -0.11463933,  3.9555068 ],\n",
              "               ...,\n",
              "               [-1.        , -1.        , -1.        , -1.        ],\n",
              "               [-1.        , -1.        , -1.        , -1.        ],\n",
              "               [-1.        , -1.        , -1.        , -1.        ]]), 1],\n",
              "       [array([[ 0.        ,  0.17209353, -0.14348684, 18.76380348],\n",
              "               [ 0.        ,  0.07030833, -0.14454687, 18.84370041],\n",
              "               [ 0.        ,  0.1156154 , -0.15046772, 16.96232796],\n",
              "               ...,\n",
              "               [-1.        , -1.        , -1.        , -1.        ],\n",
              "               [-1.        , -1.        , -1.        , -1.        ],\n",
              "               [-1.        , -1.        , -1.        , -1.        ]]), 0]],\n",
              "      dtype=object)"
            ]
          },
          "metadata": {},
          "execution_count": 88
        }
      ]
    },
    {
      "cell_type": "code",
      "metadata": {
        "id": "KsXT09rdifhq"
      },
      "source": [
        "# Convert each training to 1D array so can we can put that into a sklearn model\n",
        "X = [sample.flatten() for sample in train_data[:, 0].tolist()]\n",
        "y = train_data[:, 1].tolist()"
      ],
      "execution_count": 89,
      "outputs": []
    },
    {
      "cell_type": "code",
      "source": [
        "X[:10]"
      ],
      "metadata": {
        "colab": {
          "base_uri": "https://localhost:8080/"
        },
        "id": "SknaXuIeoHly",
        "outputId": "0afa1be1-4169-401d-f72a-5a71ad4ccd95"
      },
      "execution_count": 90,
      "outputs": [
        {
          "output_type": "execute_result",
          "data": {
            "text/plain": [
              "[array([ 8.59265938e-08,  9.43149701e-02,  9.26128626e-02, ...,\n",
              "        -1.00000000e+00, -1.00000000e+00, -1.00000000e+00]),\n",
              " array([-2.45858431,  0.15992118, -0.1475938 , ..., -1.        ,\n",
              "        -1.        , -1.        ]),\n",
              " array([ 2.35824633,  0.0696648 , -0.00616779, ..., -1.        ,\n",
              "        -1.        , -1.        ]),\n",
              " array([-2.48451281,  0.02563663, -0.16195148, ..., -1.        ,\n",
              "        -1.        , -1.        ]),\n",
              " array([-2.33315945, -0.28062323, -0.03033316, ..., -1.        ,\n",
              "        -1.        , -1.        ]),\n",
              " array([-2.51307225,  0.0277686 , -0.15384947, ..., -1.        ,\n",
              "        -1.        , -1.        ]),\n",
              " array([-2.47194743,  0.11521686, -0.14387229, ..., -1.        ,\n",
              "        -1.        , -1.        ]),\n",
              " array([-1.96639669, -0.02595553, -0.15269533, ..., -1.        ,\n",
              "        -1.        , -1.        ]),\n",
              " array([-0.96545535, -0.11918614, -0.13950896, ..., -1.        ,\n",
              "        -1.        , -1.        ]),\n",
              " array([-1.24770451, -0.06835437, -0.14558072, ..., -1.        ,\n",
              "        -1.        , -1.        ])]"
            ]
          },
          "metadata": {},
          "execution_count": 90
        }
      ]
    },
    {
      "cell_type": "code",
      "metadata": {
        "colab": {
          "base_uri": "https://localhost:8080/",
          "height": 447
        },
        "id": "BvPpFNC9UAoF",
        "outputId": "c15855e8-42ca-4439-d70c-f9afe8efc31f"
      },
      "source": [
        "# Checking for any class imbalance\n",
        "sns.countplot(y)"
      ],
      "execution_count": 91,
      "outputs": [
        {
          "output_type": "execute_result",
          "data": {
            "text/plain": [
              "<Axes: ylabel='count'>"
            ]
          },
          "metadata": {},
          "execution_count": 91
        },
        {
          "output_type": "display_data",
          "data": {
            "text/plain": [
              "<Figure size 640x480 with 1 Axes>"
            ],
            "image/png": "[encoded data removed]"
          },
          "metadata": {}
        }
      ]
    },
    {
      "cell_type": "markdown",
      "metadata": {
        "id": "mTStdW-jh32Z"
      },
      "source": [
        "## Splitting the data"
      ]
    },
    {
      "cell_type": "code",
      "source": [
        "# Turn data into tensors\n",
        "# Otherwise this causes issues with computations later on\n",
        "import torch\n",
        "X = torch.from_numpy(np.array(X)).type(torch.float)\n",
        "y = torch.from_numpy(np.array(y)).type(torch.float)\n",
        "\n",
        "# View the first five samples\n",
        "X[:5], y[:5]"
      ],
      "metadata": {
        "colab": {
          "base_uri": "https://localhost:8080/"
        },
        "id": "9ABCe040sPXF",
        "outputId": "dee9c130-b21b-45ad-dde1-0e0793c76f79"
      },
      "execution_count": 92,
      "outputs": [
        {
          "output_type": "execute_result",
          "data": {
            "text/plain": [
              "(tensor([[ 8.5927e-08,  9.4315e-02,  9.2613e-02,  ..., -1.0000e+00,\n",
              "          -1.0000e+00, -1.0000e+00],\n",
              "         [-2.4586e+00,  1.5992e-01, -1.4759e-01,  ..., -1.0000e+00,\n",
              "          -1.0000e+00, -1.0000e+00],\n",
              "         [ 2.3582e+00,  6.9665e-02, -6.1678e-03,  ..., -1.0000e+00,\n",
              "          -1.0000e+00, -1.0000e+00],\n",
              "         [-2.4845e+00,  2.5637e-02, -1.6195e-01,  ..., -1.0000e+00,\n",
              "          -1.0000e+00, -1.0000e+00],\n",
              "         [-2.3332e+00, -2.8062e-01, -3.0333e-02,  ..., -1.0000e+00,\n",
              "          -1.0000e+00, -1.0000e+00]]),\n",
              " tensor([1., 0., 1., 0., 0.]))"
            ]
          },
          "metadata": {},
          "execution_count": 92
        }
      ]
    },
    {
      "cell_type": "code",
      "metadata": {
        "id": "-v1G_U6HhjjZ"
      },
      "source": [
        "# Splitting the training set, and training & validation\n",
        "X_train, X_test, y_train, y_test  = train_test_split(X, y, test_size=0.2)"
      ],
      "execution_count": 93,
      "outputs": []
    },
    {
      "cell_type": "code",
      "metadata": {
        "colab": {
          "base_uri": "https://localhost:8080/",
          "height": 35
        },
        "id": "UBoMeZXPilE_",
        "outputId": "d9b2ab8d-7cc2-40b0-cb29-73c800d26524"
      },
      "source": [
        "# Standard PyTorch imports\n",
        "import torch\n",
        "from torch import nn\n",
        "\n",
        "# Make device agnostic code\n",
        "device = \"cuda\" if torch.cuda.is_available() else \"cpu\"\n",
        "device"
      ],
      "execution_count": 94,
      "outputs": [
        {
          "output_type": "execute_result",
          "data": {
            "text/plain": [
              "'cpu'"
            ],
            "application/vnd.google.colaboratory.intrinsic+json": {
              "type": "string"
            }
          },
          "metadata": {},
          "execution_count": 94
        }
      ]
    },
    {
      "cell_type": "code",
      "source": [
        "X_train.shape, y_train.shape"
      ],
      "metadata": {
        "colab": {
          "base_uri": "https://localhost:8080/"
        },
        "id": "WBAZCKWctxYB",
        "outputId": "c70a06cb-2688-4188-ad6e-5f4d9fedb1ca"
      },
      "execution_count": 95,
      "outputs": [
        {
          "output_type": "execute_result",
          "data": {
            "text/plain": [
              "(torch.Size([4000, 1200]), torch.Size([4000]))"
            ]
          },
          "metadata": {},
          "execution_count": 95
        }
      ]
    },
    {
      "cell_type": "code",
      "source": [
        "# Calculate accuracy (a classification metric)\n",
        "def accuracy_fn(y_true, y_pred):\n",
        "    correct = torch.eq(y_true, y_pred).sum().item() # torch.eq() calculates where two tensors are equal\n",
        "    acc = (correct / len(y_pred)) * 100\n",
        "    return acc"
      ],
      "metadata": {
        "id": "v7pJag8IuWCc"
      },
      "execution_count": 96,
      "outputs": []
    },
    {
      "cell_type": "code",
      "source": [
        "# Build model with non-linear activation function\n",
        "from torch import nn\n",
        "class CircleModelV2(nn.Module):\n",
        "    def __init__(self):\n",
        "        super().__init__()\n",
        "        self.layer = nn.Sequential(\n",
        "            nn.Linear(in_features=1200, out_features=20),\n",
        "            nn.ReLU(),\n",
        "            nn.Linear(in_features=20, out_features=1),\n",
        "            nn.ReLU()\n",
        "        )\n",
        "         # <- add in ReLU activation function\n",
        "        # Can also put sigmoid in the model\n",
        "        # This would mean you don't need to use it on the predictions\n",
        "        # self.sigmoid = nn.Sigmoid()\n",
        "\n",
        "    def forward(self, x):\n",
        "      # Intersperse the ReLU activation function between layers\n",
        "       return self.layer(x)\n",
        "\n",
        "model_3 = CircleModelV2().to(device)\n",
        "print(model_3)"
      ],
      "metadata": {
        "colab": {
          "base_uri": "https://localhost:8080/"
        },
        "id": "YZL_Fw53nYQp",
        "outputId": "b09be193-005b-43b3-9557-ebe6cc997c56"
      },
      "execution_count": 97,
      "outputs": [
        {
          "output_type": "stream",
          "name": "stdout",
          "text": [
            "CircleModelV2(\n",
            "  (layer): Sequential(\n",
            "    (0): Linear(in_features=1200, out_features=20, bias=True)\n",
            "    (1): ReLU()\n",
            "    (2): Linear(in_features=20, out_features=1, bias=True)\n",
            "    (3): ReLU()\n",
            "  )\n",
            ")\n"
          ]
        }
      ]
    },
    {
      "cell_type": "code",
      "source": [
        "# Setup loss and optimizer\n",
        "loss_fn = nn.BCEWithLogitsLoss()\n",
        "optimizer = torch.optim.SGD(model_3.parameters(), lr=0.1)"
      ],
      "metadata": {
        "id": "AlJak5-tnYTR"
      },
      "execution_count": 98,
      "outputs": []
    },
    {
      "cell_type": "code",
      "source": [
        "# Fit the model\n",
        "torch.manual_seed(42)\n",
        "epochs = 1000\n",
        "\n",
        "# Put all data on target device\n",
        "X_train, y_train = X_train.to(device), y_train.to(device)\n",
        "X_test, y_test = X_test.to(device), y_test.to(device)\n",
        "\n",
        "for epoch in range(epochs):\n",
        "    # 1. Forward pass\n",
        "    y_logits = model_3(X_train).squeeze()\n",
        "    y_pred = torch.round(torch.sigmoid(y_logits)) # logits -> prediction probabilities -> prediction labels\n",
        "\n",
        "    # 2. Calculate loss and accuracy\n",
        "    loss = loss_fn(y_logits, y_train) # BCEWithLogitsLoss calculates loss using logits\n",
        "    acc = accuracy_fn(y_true=y_train,\n",
        "                      y_pred=y_pred)\n",
        "\n",
        "    # 3. Optimizer zero grad\n",
        "    optimizer.zero_grad()\n",
        "\n",
        "    # 4. Loss backward\n",
        "    loss.backward()\n",
        "\n",
        "    # 5. Optimizer step\n",
        "    optimizer.step()\n",
        "\n",
        "    ### Testing\n",
        "    model_3.eval()\n",
        "    with torch.inference_mode():\n",
        "      # 1. Forward pass\n",
        "      test_logits = model_3(X_test).squeeze()\n",
        "      test_pred = torch.round(torch.sigmoid(test_logits)) # logits -> prediction probabilities -> prediction labels\n",
        "      # 2. Calcuate loss and accuracy\n",
        "      test_loss = loss_fn(test_logits, y_test)\n",
        "      test_acc = accuracy_fn(y_true=y_test,\n",
        "                             y_pred=test_pred)\n",
        "\n",
        "    # Print out what's happening\n",
        "    if epoch % 100 == 0:\n",
        "        print(f\"Epoch: {epoch} | Loss: {loss:.5f}, Accuracy: {acc:.2f}% | Test Loss: {test_loss:.5f}, Test Accuracy: {test_acc:.2f}%\")"
      ],
      "metadata": {
        "colab": {
          "base_uri": "https://localhost:8080/"
        },
        "id": "Vw5778tonYV5",
        "outputId": "30f0e242-277a-4602-dbc5-9f9b61f99ab1"
      },
      "execution_count": 99,
      "outputs": [
        {
          "output_type": "stream",
          "name": "stdout",
          "text": [
            "Epoch: 0 | Loss: 0.85590, Accuracy: 23.97% | Test Loss: 0.69280, Test Accuracy: 69.40%\n",
            "Epoch: 100 | Loss: 0.50454, Accuracy: 97.92% | Test Loss: 0.49937, Test Accuracy: 97.90%\n",
            "Epoch: 200 | Loss: 0.50049, Accuracy: 98.08% | Test Loss: 0.49673, Test Accuracy: 97.90%\n",
            "Epoch: 300 | Loss: 0.49868, Accuracy: 98.38% | Test Loss: 0.49606, Test Accuracy: 97.50%\n",
            "Epoch: 400 | Loss: 0.49886, Accuracy: 98.70% | Test Loss: 0.49739, Test Accuracy: 97.40%\n",
            "Epoch: 500 | Loss: 0.49832, Accuracy: 98.78% | Test Loss: 0.49802, Test Accuracy: 97.50%\n",
            "Epoch: 600 | Loss: 0.49880, Accuracy: 98.75% | Test Loss: 0.49736, Test Accuracy: 97.30%\n",
            "Epoch: 700 | Loss: 0.49625, Accuracy: 98.60% | Test Loss: 0.49748, Test Accuracy: 97.50%\n",
            "Epoch: 800 | Loss: 0.49583, Accuracy: 98.78% | Test Loss: 0.49953, Test Accuracy: 97.30%\n",
            "Epoch: 900 | Loss: 0.49690, Accuracy: 98.88% | Test Loss: 0.49998, Test Accuracy: 97.30%\n"
          ]
        }
      ]
    },
    {
      "cell_type": "markdown",
      "source": [
        "Epoch: 0 | Loss: 0.69906, Accuracy: 37.82% | Test Loss: 0.54386, Test Accuracy: 92.10%\n",
        "Epoch: 100 | Loss: 0.06871, Accuracy: 98.00% | Test Loss: 0.07143, Test Accuracy: 98.20%\n",
        "Epoch: 200 | Loss: 0.05880, Accuracy: 98.30% | Test Loss: 0.06125, Test Accuracy: 98.40%\n",
        "Epoch: 300 | Loss: 0.05624, Accuracy: 98.42% | Test Loss: 0.06155, Test Accuracy: 98.40%\n",
        "Epoch: 400 | Loss: 0.05417, Accuracy: 98.38% | Test Loss: 0.06516, Test Accuracy: 98.30%\n",
        "Epoch: 500 | Loss: 0.04623, Accuracy: 98.80% | Test Loss: 0.05435, Test Accuracy: 98.30%\n",
        "Epoch: 600 | Loss: 0.04490, Accuracy: 98.85% | Test Loss: 0.05454, Test Accuracy: 98.40%\n",
        "Epoch: 700 | Loss: 0.04241, Accuracy: 98.88% | Test Loss: 0.05495, Test Accuracy: 98.40%\n",
        "Epoch: 800 | Loss: 0.04044, Accuracy: 98.92% | Test Loss: 0.05531, Test Accuracy: 98.30%\n",
        "Epoch: 900 | Loss: 0.04074, Accuracy: 98.95% | Test Loss: 0.05594, Test Accuracy: 98.40%"
      ],
      "metadata": {
        "id": "ne3IES-T2Twp"
      }
    },
    {
      "cell_type": "code",
      "source": [
        "# Make predictions\n",
        "model_3.eval()\n",
        "with torch.inference_mode():\n",
        "    y_preds = torch.round(torch.sigmoid(model_3(X_test))).squeeze()\n",
        "y_preds[:20], y_test[:20] # want preds in same format as truth labels"
      ],
      "metadata": {
        "colab": {
          "base_uri": "https://localhost:8080/"
        },
        "id": "DqmEzSMdnYZK",
        "outputId": "ec1ea497-0d22-44af-fc86-0c095b1ae3ec"
      },
      "execution_count": 100,
      "outputs": [
        {
          "output_type": "execute_result",
          "data": {
            "text/plain": [
              "(tensor([1., 0., 1., 1., 1., 0., 0., 0., 1., 0., 0., 0., 1., 0., 1., 1., 0., 1.,\n",
              "         0., 1.]),\n",
              " tensor([1., 0., 1., 1., 1., 0., 0., 0., 1., 0., 0., 0., 1., 0., 1., 1., 1., 1.,\n",
              "         0., 1.]))"
            ]
          },
          "metadata": {},
          "execution_count": 100
        }
      ]
    },
    {
      "cell_type": "code",
      "source": [
        "pip install torchmetrics"
      ],
      "metadata": {
        "colab": {
          "base_uri": "https://localhost:8080/"
        },
        "id": "07mtWneb6Psk",
        "outputId": "752fe813-cdb0-4d55-f70d-f791eee4e0db"
      },
      "execution_count": 101,
      "outputs": [
        {
          "output_type": "stream",
          "name": "stdout",
          "text": [
            "Requirement already satisfied: torchmetrics in /usr/local/lib/python3.10/dist-packages (1.0.3)\n",
            "Requirement already satisfied: numpy>1.20.0 in /usr/local/lib/python3.10/dist-packages (from torchmetrics) (1.23.5)\n",
            "Requirement already satisfied: torch>=1.8.1 in /usr/local/lib/python3.10/dist-packages (from torchmetrics) (2.0.1+cu118)\n",
            "Requirement already satisfied: packaging in /usr/local/lib/python3.10/dist-packages (from torchmetrics) (23.1)\n",
            "Requirement already satisfied: lightning-utilities>=0.7.0 in /usr/local/lib/python3.10/dist-packages (from torchmetrics) (0.9.0)\n",
            "Requirement already satisfied: typing-extensions in /usr/local/lib/python3.10/dist-packages (from lightning-utilities>=0.7.0->torchmetrics) (4.7.1)\n",
            "Requirement already satisfied: filelock in /usr/local/lib/python3.10/dist-packages (from torch>=1.8.1->torchmetrics) (3.12.2)\n",
            "Requirement already satisfied: sympy in /usr/local/lib/python3.10/dist-packages (from torch>=1.8.1->torchmetrics) (1.12)\n",
            "Requirement already satisfied: networkx in /usr/local/lib/python3.10/dist-packages (from torch>=1.8.1->torchmetrics) (3.1)\n",
            "Requirement already satisfied: jinja2 in /usr/local/lib/python3.10/dist-packages (from torch>=1.8.1->torchmetrics) (3.1.2)\n",
            "Requirement already satisfied: triton==2.0.0 in /usr/local/lib/python3.10/dist-packages (from torch>=1.8.1->torchmetrics) (2.0.0)\n",
            "Requirement already satisfied: cmake in /usr/local/lib/python3.10/dist-packages (from triton==2.0.0->torch>=1.8.1->torchmetrics) (3.27.2)\n",
            "Requirement already satisfied: lit in /usr/local/lib/python3.10/dist-packages (from triton==2.0.0->torch>=1.8.1->torchmetrics) (16.0.6)\n",
            "Requirement already satisfied: MarkupSafe>=2.0 in /usr/local/lib/python3.10/dist-packages (from jinja2->torch>=1.8.1->torchmetrics) (2.1.3)\n",
            "Requirement already satisfied: mpmath>=0.19 in /usr/local/lib/python3.10/dist-packages (from sympy->torch>=1.8.1->torchmetrics) (1.3.0)\n"
          ]
        }
      ]
    },
    {
      "cell_type": "markdown",
      "metadata": {
        "id": "r_wZjQdGicH9"
      },
      "source": [
        "# Training the Model"
      ]
    },
    {
      "cell_type": "code",
      "source": [
        "import torchmetrics\n",
        "\n",
        "confmat = torchmetrics.ConfusionMatrix(task=\"multiclass\", num_classes=3)\n",
        "confmat(y_preds, y_test)\n"
      ],
      "metadata": {
        "colab": {
          "base_uri": "https://localhost:8080/"
        },
        "id": "GAhlJw3z6YbE",
        "outputId": "3a4895bd-8726-4321-8aa8-05840582c32c"
      },
      "execution_count": 102,
      "outputs": [
        {
          "output_type": "execute_result",
          "data": {
            "text/plain": [
              "tensor([[681,   8,   0],\n",
              "        [ 17, 294,   0],\n",
              "        [  0,   0,   0]])"
            ]
          },
          "metadata": {},
          "execution_count": 102
        }
      ]
    },
    {
      "cell_type": "markdown",
      "metadata": {
        "id": "I19LFvwDi1-t"
      },
      "source": [
        "# Validation"
      ]
    },
    {
      "cell_type": "code",
      "metadata": {
        "id": "tKf3BHa-i1bU"
      },
      "source": [
        "# Converting each testing sample into 1D array\n",
        "test_1 = [sample.flatten() for sample in test_data.tolist()]\n",
        "test = torch.from_numpy(np.array(test_1)).type(torch.float)"
      ],
      "execution_count": 103,
      "outputs": []
    },
    {
      "cell_type": "markdown",
      "metadata": {
        "id": "YG2XctgukLo6"
      },
      "source": [
        "# Predictions"
      ]
    },
    {
      "cell_type": "code",
      "metadata": {
        "id": "W1X6ghB6kOxx",
        "colab": {
          "base_uri": "https://localhost:8080/"
        },
        "outputId": "fff31544-37a9-4351-b4f6-13e5806916f4"
      },
      "source": [
        "test[:10]"
      ],
      "execution_count": 104,
      "outputs": [
        {
          "output_type": "execute_result",
          "data": {
            "text/plain": [
              "tensor([[-6.9085e+00,  5.4345e-02, -1.6204e-01,  ..., -1.0000e+00,\n",
              "         -1.0000e+00, -1.0000e+00],\n",
              "        [ 3.0706e-01, -1.2990e-01,  6.4298e-03,  ..., -1.0000e+00,\n",
              "         -1.0000e+00, -1.0000e+00],\n",
              "        [-2.4871e+00, -3.4778e-02, -1.4198e-01,  ..., -1.0000e+00,\n",
              "         -1.0000e+00, -1.0000e+00],\n",
              "        ...,\n",
              "        [ 1.8311e+00,  2.2106e-01, -7.8359e-02,  ..., -1.0000e+00,\n",
              "         -1.0000e+00, -1.0000e+00],\n",
              "        [-8.5355e-01,  7.1846e-03, -1.5714e-01,  ..., -1.0000e+00,\n",
              "         -1.0000e+00, -1.0000e+00],\n",
              "        [ 1.6861e+00,  7.1846e-03, -3.2371e-02,  ..., -1.0000e+00,\n",
              "         -1.0000e+00, -1.0000e+00]])"
            ]
          },
          "metadata": {},
          "execution_count": 104
        }
      ]
    },
    {
      "cell_type": "code",
      "metadata": {
        "colab": {
          "base_uri": "https://localhost:8080/"
        },
        "id": "s3PTzcp0kFTj",
        "outputId": "bb37e99a-a28b-47df-db1c-8d06ad27544c"
      },
      "source": [
        "model_3.eval()\n",
        "with torch.inference_mode():\n",
        "    y_preds_sub = torch.round(torch.sigmoid(model_3(test))).squeeze()\n",
        "y_preds[:10] # want preds in same format as truth labels"
      ],
      "execution_count": 105,
      "outputs": [
        {
          "output_type": "execute_result",
          "data": {
            "text/plain": [
              "tensor([1., 0., 1., 1., 1., 0., 0., 0., 1., 0.])"
            ]
          },
          "metadata": {},
          "execution_count": 105
        }
      ]
    },
    {
      "cell_type": "code",
      "metadata": {
        "colab": {
          "base_uri": "https://localhost:8080/",
          "height": 423
        },
        "id": "AY9v1bBjkZU2",
        "outputId": "5e48db2d-5bee-45d1-8142-c9e274d202b6"
      },
      "source": [
        "# Converting the predictions array into pandas dataset\n",
        "submission = pd.DataFrame({\"label\":y_preds_sub})\n",
        "submission"
      ],
      "execution_count": 106,
      "outputs": [
        {
          "output_type": "execute_result",
          "data": {
            "text/plain": [
              "      label\n",
              "0       0.0\n",
              "1       1.0\n",
              "2       0.0\n",
              "3       1.0\n",
              "4       0.0\n",
              "...     ...\n",
              "2995    0.0\n",
              "2996    1.0\n",
              "2997    0.0\n",
              "2998    0.0\n",
              "2999    0.0\n",
              "\n",
              "[3000 rows x 1 columns]"
            ],
            "text/html": [
              "\n",
              "  <div id=\"df-96abe16a-ad13-49ad-b359-8038a713c605\" class=\"colab-df-container\">\n",
              "    <div>\n",
              "<style scoped>\n",
              "    .dataframe tbody tr th:only-of-type {\n",
              "        vertical-align: middle;\n",
              "    }\n",
              "\n",
              "    .dataframe tbody tr th {\n",
              "        vertical-align: top;\n",
              "    }\n",
              "\n",
              "    .dataframe thead th {\n",
              "        text-align: right;\n",
              "    }\n",
              "</style>\n",
              "<table border=\"1\" class=\"dataframe\">\n",
              "  <thead>\n",
              "    <tr style=\"text-align: right;\">\n",
              "      <th></th>\n",
              "      <th>label</th>\n",
              "    </tr>\n",
              "  </thead>\n",
              "  <tbody>\n",
              "    <tr>\n",
              "      <th>0</th>\n",
              "      <td>0.0</td>\n",
              "    </tr>\n",
              "    <tr>\n",
              "      <th>1</th>\n",
              "      <td>1.0</td>\n",
              "    </tr>\n",
              "    <tr>\n",
              "      <th>2</th>\n",
              "      <td>0.0</td>\n",
              "    </tr>\n",
              "    <tr>\n",
              "      <th>3</th>\n",
              "      <td>1.0</td>\n",
              "    </tr>\n",
              "    <tr>\n",
              "      <th>4</th>\n",
              "      <td>0.0</td>\n",
              "    </tr>\n",
              "    <tr>\n",
              "      <th>...</th>\n",
              "      <td>...</td>\n",
              "    </tr>\n",
              "    <tr>\n",
              "      <th>2995</th>\n",
              "      <td>0.0</td>\n",
              "    </tr>\n",
              "    <tr>\n",
              "      <th>2996</th>\n",
              "      <td>1.0</td>\n",
              "    </tr>\n",
              "    <tr>\n",
              "      <th>2997</th>\n",
              "      <td>0.0</td>\n",
              "    </tr>\n",
              "    <tr>\n",
              "      <th>2998</th>\n",
              "      <td>0.0</td>\n",
              "    </tr>\n",
              "    <tr>\n",
              "      <th>2999</th>\n",
              "      <td>0.0</td>\n",
              "    </tr>\n",
              "  </tbody>\n",
              "</table>\n",
              "<p>3000 rows × 1 columns</p>\n",
              "</div>\n",
              "    <div class=\"colab-df-buttons\">\n",
              "\n",
              "  <div class=\"colab-df-container\">\n",
              "    <button class=\"colab-df-convert\" onclick=\"convertToInteractive('df-96abe16a-ad13-49ad-b359-8038a713c605')\"\n",
              "            title=\"Convert this dataframe to an interactive table.\"\n",
              "            style=\"display:none;\">\n",
              "\n",
              "  <svg xmlns=\"http://www.w3.org/2000/svg\" height=\"24px\" viewBox=\"0 -960 960 960\">\n",
              "    <path d=\"M120-120v-720h720v720H120Zm60-500h600v-160H180v160Zm220 220h160v-160H400v160Zm0 220h160v-160H400v160ZM180-400h160v-160H180v160Zm440 0h160v-160H620v160ZM180-180h160v-160H180v160Zm440 0h160v-160H620v160Z\"/>\n",
              "  </svg>\n",
              "    </button>\n",
              "\n",
              "  <style>\n",
              "    .colab-df-container {\n",
              "      display:flex;\n",
              "      gap: 12px;\n",
              "    }\n",
              "\n",
              "    .colab-df-convert {\n",
              "      background-color: #E8F0FE;\n",
              "      border: none;\n",
              "      border-radius: 50%;\n",
              "      cursor: pointer;\n",
              "      display: none;\n",
              "      fill: #1967D2;\n",
              "      height: 32px;\n",
              "      padding: 0 0 0 0;\n",
              "      width: 32px;\n",
              "    }\n",
              "\n",
              "    .colab-df-convert:hover {\n",
              "      background-color: #E2EBFA;\n",
              "      box-shadow: 0px 1px 2px rgba(60, 64, 67, 0.3), 0px 1px 3px 1px rgba(60, 64, 67, 0.15);\n",
              "      fill: #174EA6;\n",
              "    }\n",
              "\n",
              "    .colab-df-buttons div {\n",
              "      margin-bottom: 4px;\n",
              "    }\n",
              "\n",
              "    [theme=dark] .colab-df-convert {\n",
              "      background-color: #3B4455;\n",
              "      fill: #D2E3FC;\n",
              "    }\n",
              "\n",
              "    [theme=dark] .colab-df-convert:hover {\n",
              "      background-color: #434B5C;\n",
              "      box-shadow: 0px 1px 3px 1px rgba(0, 0, 0, 0.15);\n",
              "      filter: drop-shadow(0px 1px 2px rgba(0, 0, 0, 0.3));\n",
              "      fill: #FFFFFF;\n",
              "    }\n",
              "  </style>\n",
              "\n",
              "    <script>\n",
              "      const buttonEl =\n",
              "        document.querySelector('#df-96abe16a-ad13-49ad-b359-8038a713c605 button.colab-df-convert');\n",
              "      buttonEl.style.display =\n",
              "        google.colab.kernel.accessAllowed ? 'block' : 'none';\n",
              "\n",
              "      async function convertToInteractive(key) {\n",
              "        const element = document.querySelector('#df-96abe16a-ad13-49ad-b359-8038a713c605');\n",
              "        const dataTable =\n",
              "          await google.colab.kernel.invokeFunction('convertToInteractive',\n",
              "                                                    [key], {});\n",
              "        if (!dataTable) return;\n",
              "\n",
              "        const docLinkHtml = 'Like what you see? Visit the ' +\n",
              "          '<a target=\"_blank\" href=https://colab.research.google.com/notebooks/data_table.ipynb>data table notebook</a>'\n",
              "          + ' to learn more about interactive tables.';\n",
              "        element.innerHTML = '';\n",
              "        dataTable['output_type'] = 'display_data';\n",
              "        await google.colab.output.renderOutput(dataTable, element);\n",
              "        const docLink = document.createElement('div');\n",
              "        docLink.innerHTML = docLinkHtml;\n",
              "        element.appendChild(docLink);\n",
              "      }\n",
              "    </script>\n",
              "  </div>\n",
              "\n",
              "\n",
              "<div id=\"df-5e458373-7bca-43d6-b020-984791ede578\">\n",
              "  <button class=\"colab-df-quickchart\" onclick=\"quickchart('df-5e458373-7bca-43d6-b020-984791ede578')\"\n",
              "            title=\"Suggest charts.\"\n",
              "            style=\"display:none;\">\n",
              "\n",
              "<svg xmlns=\"http://www.w3.org/2000/svg\" height=\"24px\"viewBox=\"0 0 24 24\"\n",
              "     width=\"24px\">\n",
              "    <g>\n",
              "        <path d=\"M19 3H5c-1.1 0-2 .9-2 2v14c0 1.1.9 2 2 2h14c1.1 0 2-.9 2-2V5c0-1.1-.9-2-2-2zM9 17H7v-7h2v7zm4 0h-2V7h2v10zm4 0h-2v-4h2v4z\"/>\n",
              "    </g>\n",
              "</svg>\n",
              "  </button>\n",
              "\n",
              "<style>\n",
              "  .colab-df-quickchart {\n",
              "    background-color: #E8F0FE;\n",
              "    border: none;\n",
              "    border-radius: 50%;\n",
              "    cursor: pointer;\n",
              "    display: none;\n",
              "    fill: #1967D2;\n",
              "    height: 32px;\n",
              "    padding: 0 0 0 0;\n",
              "    width: 32px;\n",
              "  }\n",
              "\n",
              "  .colab-df-quickchart:hover {\n",
              "    background-color: #E2EBFA;\n",
              "    box-shadow: 0px 1px 2px rgba(60, 64, 67, 0.3), 0px 1px 3px 1px rgba(60, 64, 67, 0.15);\n",
              "    fill: #174EA6;\n",
              "  }\n",
              "\n",
              "  [theme=dark] .colab-df-quickchart {\n",
              "    background-color: #3B4455;\n",
              "    fill: #D2E3FC;\n",
              "  }\n",
              "\n",
              "  [theme=dark] .colab-df-quickchart:hover {\n",
              "    background-color: #434B5C;\n",
              "    box-shadow: 0px 1px 3px 1px rgba(0, 0, 0, 0.15);\n",
              "    filter: drop-shadow(0px 1px 2px rgba(0, 0, 0, 0.3));\n",
              "    fill: #FFFFFF;\n",
              "  }\n",
              "</style>\n",
              "\n",
              "  <script>\n",
              "    async function quickchart(key) {\n",
              "      const charts = await google.colab.kernel.invokeFunction(\n",
              "          'suggestCharts', [key], {});\n",
              "    }\n",
              "    (() => {\n",
              "      let quickchartButtonEl =\n",
              "        document.querySelector('#df-5e458373-7bca-43d6-b020-984791ede578 button');\n",
              "      quickchartButtonEl.style.display =\n",
              "        google.colab.kernel.accessAllowed ? 'block' : 'none';\n",
              "    })();\n",
              "  </script>\n",
              "</div>\n",
              "    </div>\n",
              "  </div>\n"
            ]
          },
          "metadata": {},
          "execution_count": 106
        }
      ]
    },
    {
      "cell_type": "code",
      "metadata": {
        "id": "nMntG6yaka4g"
      },
      "source": [
        "# Saving the pandas dataframe\n",
        "!rm -rf assets\n",
        "!mkdir assets\n",
        "submission.to_csv(os.path.join(\"assets\", \"submission.csv\"), index=False)"
      ],
      "execution_count": 107,
      "outputs": []
    },
    {
      "cell_type": "markdown",
      "metadata": {
        "id": "AbciPQ8RklRD"
      },
      "source": [
        "# Submitting our Predictions\n",
        "**Note : Please save the notebook before submitting it (Ctrl + S)**"
      ]
    },
    {
      "cell_type": "code",
      "metadata": {
        "colab": {
          "base_uri": "https://localhost:8080/"
        },
        "id": "1iXgqvzNkkvZ",
        "outputId": "d2a78f04-2c36-468d-991d-7a84dc19b76f"
      },
      "source": [
        "%aicrowd notebook submit -c obstacle-prediction -a assets --no-verify"
      ],
      "execution_count": 108,
      "outputs": [
        {
          "output_type": "stream",
          "name": "stderr",
          "text": [
            "\u001b[31mAn unexpected error occured!\u001b[0m\n",
            "cannot import name 'appengine' from 'urllib3.contrib' (/usr/local/lib/python3.10/dist-packages/urllib3/contrib/__init__.py)\n",
            "To get more information, you can run this command with -v.\n",
            "To increase level of verbosity, you can go upto -vvvvv\n"
          ]
        }
      ]
    },
    {
      "cell_type": "code",
      "metadata": {
        "id": "PqL0hNm0k0R6"
      },
      "source": [],
      "execution_count": 108,
      "outputs": []
    }
  ]
}